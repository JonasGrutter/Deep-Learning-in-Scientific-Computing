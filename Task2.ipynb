{
 "cells": [
  {
   "cell_type": "code",
   "execution_count": 1,
   "metadata": {},
   "outputs": [
    {
     "data": {
      "text/plain": [
       "<torch._C.Generator at 0x7f88810a53d0>"
      ]
     },
     "execution_count": 1,
     "metadata": {},
     "output_type": "execute_result"
    }
   ],
   "source": [
    "import numpy as np\n",
    "import matplotlib.pyplot as plt\n",
    "import torch.optim as optim\n",
    "import torch\n",
    "from torch.utils.data import DataLoader\n",
    "import os\n",
    "from utils.common import NeuralNet, fit\n",
    "torch.manual_seed(42)"
   ]
  },
  {
   "cell_type": "code",
   "execution_count": 2,
   "metadata": {},
   "outputs": [
    {
     "name": "stdout",
     "output_type": "stream",
     "text": [
      "sobol size = (2560, 8)\n",
      "xy_101 size: (2560, 9)\n",
      "xy_401 size: (640, 9)\n",
      "xy_1601 size: (160, 9)\n",
      "Variance of details at level l = 1 :  1.9109805e-06\n",
      "Variance of details at level l = 2 :  1.6335908e-07\n"
     ]
    }
   ],
   "source": [
    "# %%\n",
    "def load_data(Test, train_size):\n",
    "    # REPLACE THE ( FIRST COLUMNS BY SOBOL VALUES)\n",
    "    sobol = np.loadtxt('Data/samples_sobol_Task2.txt', delimiter=' ', dtype=np.float32)\n",
    "    print(f'sobol size = {sobol.shape}')\n",
    "    xy_101 = np.loadtxt('Data/TrainingData_101_Task2.txt', delimiter=' ', dtype=np.float32)\n",
    "    xy_101[:, :-1] = sobol\n",
    "    print(f'xy_101 size: {xy_101.shape}')\n",
    "    xy_401 = np.loadtxt('Data/TrainingData_401_Task2.txt', delimiter=' ', dtype=np.float32)\n",
    "    xy_401[:, :-1] = sobol[:xy_401.shape[0], :]\n",
    "    print(f'xy_401 size: {xy_401.shape}')\n",
    "    xy_1601 = np.loadtxt('Data/TrainingData_1601_Task2.txt', delimiter=' ', dtype=np.float32)\n",
    "    xy_1601[:, :-1] = sobol[:xy_1601.shape[0], :]\n",
    "    \n",
    "    xy_1601_test = xy_1601[:round(train_size*xy_1601.shape[0]),:]\n",
    "    print(f'xy_1601 size: {xy_1601.shape}')\n",
    "    if Test==False:\n",
    "        datasets_meshes = [xy_101,xy_401, xy_1601] # Full training\n",
    "        return datasets_meshes\n",
    "    else:\n",
    "        datasets_meshes = [xy_101,xy_401, xy_1601_test] # Test\n",
    "        test_set = xy_1601[round(train_size*xy_1601.shape[0]):,:]\n",
    "        print(f'Train size: {xy_1601_test.shape}')\n",
    "        print(f'Test size: {test_set.shape}')\n",
    "        return datasets_meshes, test_set\n",
    "\n",
    "train_size = 0.75\n",
    "Test = False\n",
    "if Test:\n",
    "    print('TESTING')\n",
    "    datasets_meshes,test_set = load_data(Test, train_size)\n",
    "else:\n",
    "    datasets_meshes = load_data(Test, train_size)\n",
    "# %%\n",
    "training_sets = list()\n",
    "training_sets.append(datasets_meshes[0])\n",
    "\n",
    "for l in range(1, len(datasets_meshes)):\n",
    "    ns = datasets_meshes[l].shape[0]\n",
    "    assert ((datasets_meshes[l][:ns, :-1] == datasets_meshes[l - 1][:ns, :-1]).all())\n",
    "\n",
    "    obs_diff = datasets_meshes[l][:ns, -1] - datasets_meshes[l - 1][:ns, -1]\n",
    "    print(\"Variance of details at level l =\", l ,\": \",np.var(obs_diff))\n",
    "    ts_detail_l = np.concatenate([datasets_meshes[l][:ns, :-1], obs_diff.reshape(-1, 1)], 1)\n",
    "    training_sets.append(ts_detail_l)"
   ]
  },
  {
   "cell_type": "code",
   "execution_count": 3,
   "metadata": {},
   "outputs": [
    {
     "data": {
      "image/png": "[encoded data removed]",
      "text/plain": [
       "<Figure size 432x288 with 1 Axes>"
      ]
     },
     "metadata": {
      "needs_background": "light"
     },
     "output_type": "display_data"
    }
   ],
   "source": [
    "approximate_models = list()\n",
    "\n",
    "for i, current_ts in enumerate(training_sets):\n",
    "    inputs = torch.from_numpy(current_ts[:, :-1]).type(torch.float32)\n",
    "    output = torch.from_numpy(current_ts[:, -1].reshape(-1, 1)).type(torch.float32)\n",
    "    batch_size = inputs.shape[0]\n",
    "    training_set = DataLoader(torch.utils.data.TensorDataset(inputs, output), batch_size=batch_size, shuffle=True)\n",
    "\n",
    "    model = NeuralNet(input_dimension=inputs.shape[1],\n",
    "                      output_dimension=output.shape[1],\n",
    "                      n_hidden_layers=4,\n",
    "                      neurons=20,\n",
    "                      regularization_param=0.0,\n",
    "                      regularization_exp=1,\n",
    "                      retrain_seed=128) # 0.004886864684522152 Validation error\n",
    "\n",
    "    # Random Seed for weight initialization\n",
    "    retrain = 200\n",
    "    # Xavier weight initialization\n",
    "    #init_xavier(model, retrain)\n",
    "    # print(model(inputs))\n",
    "\n",
    "    optimizer_ = optim.LBFGS(model.parameters(), lr=0.1, max_iter=1, max_eval=50000, tolerance_change=1.0 * np.finfo(float).eps)\n",
    "    n_epochs = 7000\n",
    "    history = fit(model, training_set, n_epochs, optimizer_, p=2, verbose=False)\n",
    "\n",
    "    plt.grid(True, which=\"both\", ls=\":\")\n",
    "    plt.plot(np.arange(1, n_epochs + 1), np.log10(history), label=f\"Train Loss {i}\")\n",
    "    plt.legend()\n",
    "\n",
    "    approximate_models.append(model)"
   ]
  },
  {
   "cell_type": "code",
   "execution_count": 4,
   "metadata": {},
   "outputs": [],
   "source": [
    "def predcit_with_ml(list_models, inputs_):\n",
    "    output_ = torch.zeros((inputs_.shape[0], 1))\n",
    "    for i in range(len(list_models)):\n",
    "        output_ = output_ + list_models[i](inputs_)\n",
    "    return output_"
   ]
  },
  {
   "cell_type": "code",
   "execution_count": 5,
   "metadata": {},
   "outputs": [],
   "source": [
    "if Test:\n",
    "    testing = test_set\n",
    "    test_output = torch.from_numpy(testing[:, -1].reshape(-1,1)).type(torch.float32)\n",
    "    testing = (testing[:,:8])\n",
    "    test_inputs_val =  torch.from_numpy(testing[:, :8]).type(torch.float32)\n",
    "    test_prediction_ml_val = predcit_with_ml(approximate_models, test_inputs_val).reshape(-1, 1)\n",
    "    err_ml = (torch.mean((test_output - test_prediction_ml_val) ** 2) / torch.mean(test_output ** 2)) ** 0.5\n",
    "    print(f'Validation error on 1601 data: {err_ml.item()}') # 7000 epochs: 0.004886864684522152"
   ]
  },
  {
   "cell_type": "code",
   "execution_count": 6,
   "metadata": {},
   "outputs": [],
   "source": [
    "#full predictions\n",
    "if Test == False:\n",
    "    test_inputs = torch.from_numpy(np.loadtxt('Data/TestingData_Task2.txt', delimiter=' ', dtype=np.float32))\n",
    "    test_pred_ml = predcit_with_ml(approximate_models, test_inputs).reshape(-1, ).detach()\n",
    "    test_pred_ml = (test_pred_ml.reshape(-1, 1))\n",
    "    test_pred_ml = test_pred_ml"
   ]
  },
  {
   "cell_type": "code",
   "execution_count": null,
   "metadata": {},
   "outputs": [],
   "source": [
    "    ## Make Submission\n",
    "with open('/Users/jonas/Documents/ETHZ/FS2022/Deep Learning for scientific computing/Project1/Task2/Task2def_check.txt', 'w') as f:\n",
    "    for idx in range(len(test_pred_ml)):\n",
    "        cf = test_pred_ml[idx].item()\n",
    "        line = str(cf)\n",
    "        f.write(line)\n",
    "        f.write('\\n')"
   ]
  }
 ],
 "metadata": {
  "kernelspec": {
   "display_name": "Python 3.9.7 ('DLSC')",
   "language": "python",
   "name": "python3"
  },
  "language_info": {
   "codemirror_mode": {
    "name": "ipython",
    "version": 3
   },
   "file_extension": ".py",
   "mimetype": "text/x-python",
   "name": "python",
   "nbconvert_exporter": "python",
   "pygments_lexer": "ipython3",
   "version": "3.9.7"
  },
  "orig_nbformat": 4,
  "vscode": {
   "interpreter": {
    "hash": "86bb253440cd2df187513c5365cd6d8de09a45f0e4f114687e4a912f27cc34d0"
   }
  }
 },
 "nbformat": 4,
 "nbformat_minor": 2
}
