{
 "cells": [
  {
   "cell_type": "code",
   "execution_count": 8,
   "metadata": {},
   "outputs": [
    {
     "data": {
      "text/plain": [
       "<torch._C.Generator at 0x7fc6b1755c70>"
      ]
     },
     "execution_count": 8,
     "metadata": {},
     "output_type": "execute_result"
    }
   ],
   "source": [
    "import numpy as np\n",
    "import matplotlib.pyplot as plt\n",
    "import torch.nn as nn\n",
    "import torch.optim as optim\n",
    "import torch\n",
    "from torch.utils.data import DataLoader\n",
    "import os\n",
    "import seaborn as sb\n",
    "from utils.common import NeuralNet, fit\n",
    "import pandas as pd\n",
    "from sklearn.preprocessing import StandardScaler, MinMaxScaler\n",
    "from sklearn.metrics import mean_squared_error\n",
    "os.environ['KMP_DUPLICATE_LIB_OK'] = 'True'\n",
    "torch.manual_seed(42)"
   ]
  },
  {
   "cell_type": "code",
   "execution_count": 9,
   "metadata": {},
   "outputs": [],
   "source": [
    "def load_data():\n",
    "  train = pd.read_csv('Data/TrainingData_Task5.txt', delim_whitespace=True, header=None)\n",
    "  X = train.iloc[:, 0:2]\n",
    "  Y = train.iloc[:, -1]\n",
    "  scaler = MinMaxScaler()\n",
    "  X_scale = scaler.fit_transform(X)\n",
    "  return X_scale, Y.to_numpy(dtype=np.float32).reshape(-1, 1), scaler\n",
    "\n",
    "x, y, scaler = load_data()"
   ]
  },
  {
   "cell_type": "code",
   "execution_count": 10,
   "metadata": {},
   "outputs": [
    {
     "name": "stdout",
     "output_type": "stream",
     "text": [
      "Error on validation set: 0.0047759046\n"
     ]
    },
    {
     "data": {
      "image/png": "[encoded data removed]",
      "text/plain": [
       "<Figure size 432x288 with 1 Axes>"
      ]
     },
     "metadata": {
      "needs_background": "light"
     },
     "output_type": "display_data"
    }
   ],
   "source": [
    "validation_size = int(30*x.shape[0]/100) # 30% of whole data set\n",
    "training_size = x.shape[0] - validation_size\n",
    "x_train = x[:training_size,:]\n",
    "y_train = y[:training_size,:]\n",
    "    \n",
    "x_val = x[training_size:,:]\n",
    "y_val = y[training_size:,:]\n",
    "\n",
    "\n",
    "\n",
    "inputs = torch.FloatTensor(x_train)\n",
    "output = torch.from_numpy(y_train)\n",
    "\n",
    "test_input = torch.FloatTensor(x_val)\n",
    "test_output = torch.from_numpy(y_val)\n",
    "batch_size = inputs.shape[0]\n",
    "\n",
    "training_set = DataLoader(torch.utils.data.TensorDataset(inputs, output), batch_size=batch_size, shuffle=True)\n",
    "\n",
    "\n",
    "model = NeuralNet(input_dimension=inputs.shape[1],\n",
    "                      output_dimension=output.shape[1],\n",
    "                      n_hidden_layers=4,\n",
    "                      neurons=20,\n",
    "                      regularization_param=0.0,\n",
    "                      regularization_exp=1,\n",
    "                      retrain_seed=128)\n",
    "optimizer_ = optim.LBFGS(model.parameters(), lr=0.01, max_iter=1, max_eval=50000, tolerance_change=1.0 * np.finfo(float).eps)\n",
    "n_epochs = 2000\n",
    "\n",
    "\n",
    "\n",
    "history = fit(model, training_set, n_epochs, optimizer_, p=2, verbose=False)\n",
    "\n",
    "\n",
    "\n",
    "plt.grid(True, which=\"both\", ls=\":\")\n",
    "plt.plot(np.arange(1, n_epochs + 1), np.log10(history), label=\"Train Loss\")\n",
    "plt.legend()\n",
    "\n",
    "print('Error on validation set:', mean_squared_error(model(test_input).detach().numpy(), test_output.detach().numpy(), squared=False) )"
   ]
  },
  {
   "cell_type": "code",
   "execution_count": null,
   "metadata": {},
   "outputs": [],
   "source": [
    "def find_iv(model, x_train, y_train):\n",
    "  value_counter = 0\n",
    "  seed = 1\n",
    "  retrain = 128\n",
    "  eps = np.finfo(float).eps\n",
    "  iters = 10\n",
    "  results = np.empty((iters, 3))\n",
    "  while value_counter < iters:\n",
    "\n",
    "    torch.manual_seed(seed)\n",
    "    y_opt = torch.rand(2, requires_grad=True)\n",
    "\n",
    "    optimizer = optim.LBFGS([y_opt], lr=float(1e-5), max_iter=50000, max_eval=50000,\n",
    "                            history_size=100, line_search_fn=\"strong_wolfe\",\n",
    "                            tolerance_change=1.0 * np.finfo(float).eps)\n",
    "\n",
    "    optimizer.zero_grad()\n",
    "    cost = list([0])\n",
    "\n",
    "    cap_factor = 0.45\n",
    "\n",
    "    def closure():\n",
    "        G = (model(y_opt) - cap_factor) ** 2\n",
    "        #print(G)\n",
    "        cost[0] = G\n",
    "        G.backward()\n",
    "        return G\n",
    "\n",
    "\n",
    "    optimizer.step(closure=closure)\n",
    "    # print(\"Minimizer: \", y_opt)\n",
    "    # print(\"Correspodning flux values: \", model(y_opt))\n",
    "    # print(\"Value of final cost function: \", cost[0])\n",
    "\n",
    "    with torch.no_grad():\n",
    "      pred = model(y_opt).cpu().numpy().reshape(1)\n",
    "    y_opt = y_opt.cpu().detach().numpy().reshape(1, 2)\n",
    "    y_opt_scaled = scaler.inverse_transform(y_opt)\n",
    "\n",
    "    if y_opt_scaled[0, 0] >= 2 and y_opt_scaled[0, 0] <= 20 and \\\n",
    "     y_opt_scaled[0, 1] >= 50 and y_opt_scaled[0, 1] <= 400 and \\\n",
    "     np.abs(pred - cap_factor) < eps:\n",
    "      #print(f'Success y_opt = {y_opt_scaled} with CF = {pred}')\n",
    "      #print(f'x.shape: {x_train.shape}, y.shape: {y_train.shape}')\n",
    "      results[value_counter, :2] = y_opt_scaled\n",
    "      results[value_counter, -1] = pred\n",
    "      print(f'Counter = {value_counter}')\n",
    "      value_counter += 1\n",
    "      seed += 1\n",
    "    else:\n",
    "      #print(f'FAIL y_opt = {y_opt} with CF = {pred}')\n",
    "      seed += 1\n",
    "\n",
    "  return x_train, y_train, results\n",
    "\n",
    "x, y, results = find_iv(model, x_train, y_train)"
   ]
  },
  {
   "cell_type": "code",
   "execution_count": null,
   "metadata": {},
   "outputs": [],
   "source": [
    "# Check if in good range\n",
    "(results[:, 0].any() < 2 + results[:, 0].any() > 20 + results[:, 1].any() < 50 + results[: 1].any() > 400).sum()\n",
    "\n",
    "plt.scatter(results[:,0], results[:,1], color = 'blue', label = 'Results')\n",
    "plt.legend()"
   ]
  }
 ],
 "metadata": {
  "kernelspec": {
   "display_name": "Python 3.9.7 ('DLSC')",
   "language": "python",
   "name": "python3"
  },
  "language_info": {
   "codemirror_mode": {
    "name": "ipython",
    "version": 3
   },
   "file_extension": ".py",
   "mimetype": "text/x-python",
   "name": "python",
   "nbconvert_exporter": "python",
   "pygments_lexer": "ipython3",
   "version": "3.9.7"
  },
  "orig_nbformat": 4,
  "vscode": {
   "interpreter": {
    "hash": "86bb253440cd2df187513c5365cd6d8de09a45f0e4f114687e4a912f27cc34d0"
   }
  }
 },
 "nbformat": 4,
 "nbformat_minor": 2
}
