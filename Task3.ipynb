{
 "cells": [
  {
   "cell_type": "markdown",
   "metadata": {},
   "source": [
    "Code heavily based on:\n",
    "[Towards_data_science](https://towardsdatascience.com/pytorch-lstms-for-time-series-data-cd16190929d7)"
   ]
  },
  {
   "cell_type": "code",
   "execution_count": 1,
   "metadata": {},
   "outputs": [
    {
     "name": "stderr",
     "output_type": "stream",
     "text": [
      "/Users/jonas/opt/miniconda3/envs/DLSC/lib/python3.9/site-packages/tqdm/auto.py:22: TqdmWarning: IProgress not found. Please update jupyter and ipywidgets. See https://ipywidgets.readthedocs.io/en/stable/user_install.html\n",
      "  from .autonotebook import tqdm as notebook_tqdm\n"
     ]
    }
   ],
   "source": [
    "import numpy as np\n",
    "import matplotlib.pyplot as plt\n",
    "import pandas as pd\n",
    "import torch\n",
    "import torch.nn as nn\n",
    "from torch.autograd import Variable\n",
    "from sklearn.preprocessing import MinMaxScaler\n",
    "from sklearn.metrics import mean_squared_error"
   ]
  },
  {
   "cell_type": "code",
   "execution_count": 2,
   "metadata": {},
   "outputs": [
    {
     "name": "stdout",
     "output_type": "stream",
     "text": [
      "cpu\n"
     ]
    }
   ],
   "source": [
    "if torch.cuda.is_available():  \n",
    "  dev = \"cuda\" \n",
    "else:  \n",
    "  dev = \"cpu\" \n",
    "print(dev)"
   ]
  },
  {
   "cell_type": "code",
   "execution_count": 3,
   "metadata": {},
   "outputs": [],
   "source": [
    "class LSTM(nn.Module):\n",
    "\n",
    "    def __init__(self, num_classes, input_size, hidden_size, num_layers, dropout=0.0):\n",
    "        super(LSTM, self).__init__()\n",
    "        \n",
    "        self.num_classes = num_classes\n",
    "        self.num_layers = num_layers\n",
    "        self.input_size = input_size\n",
    "        self.hidden_size = hidden_size\n",
    "        self.seq_length = seq_length\n",
    "        \n",
    "        self.lstm = nn.LSTM(input_size=input_size, hidden_size=hidden_size,\n",
    "                            num_layers=num_layers, batch_first=True, dropout=dropout)\n",
    "        \n",
    "        self.fc = nn.Linear(hidden_size, num_classes)\n",
    "\n",
    "    def forward(self, x):\n",
    "        h_0 = Variable(torch.zeros(\n",
    "            self.num_layers, x.size(0), self.hidden_size)).to(dev)\n",
    "        \n",
    "        c_0 = Variable(torch.zeros(\n",
    "            self.num_layers, x.size(0), self.hidden_size)).to(dev)\n",
    "        \n",
    "        # Propagate input through LSTM\n",
    "        ula, (h_out, _) = self.lstm(x, (h_0, c_0))\n",
    "        \n",
    "        h_out = h_out.view(-1, self.hidden_size)\n",
    "        \n",
    "        out = self.fc(h_out)\n",
    "        \n",
    "        return out\n",
    "        # lstm_out, self.hidden_cell = lstm(x, self.hidden_cell)\n",
    "        # pred = self.fc(lstm_out.view(len(x), -1))\n",
    "        # return pred[-1]\n",
    "\n",
    "def init_xavier(model, retrain_seed):\n",
    "  torch.manual_seed(retrain_seed)\n",
    "    \n",
    "  for name, param in model.named_parameters():\n",
    "    if 'bias' in name:\n",
    "      nn.init.constant_(param, 0.0)\n",
    "    elif 'weight' in name:\n",
    "      nn.init.xavier_normal_(param)\n",
    "\n"
   ]
  },
  {
   "cell_type": "code",
   "execution_count": 4,
   "metadata": {},
   "outputs": [],
   "source": [
    "training_set = pd.read_csv('Data/TrainingData_Task3.txt')\n",
    "training_set_1 = training_set.iloc[:,[1]].values\n",
    "training_set_2 = training_set.iloc[:,[2]].values\n",
    "testing_set = pd.read_csv('Data/TestingData_Task3.txt')\n",
    "testing_set\n",
    "testing_set = testing_set.iloc[:,[0]].values"
   ]
  },
  {
   "cell_type": "code",
   "execution_count": 5,
   "metadata": {},
   "outputs": [
    {
     "name": "stdout",
     "output_type": "stream",
     "text": [
      "Training data: (210, 1)\n",
      "x shape = (169, 40, 1), y shape: (169, 1)\n"
     ]
    }
   ],
   "source": [
    "def sliding_windows(data, seq_length):\n",
    "    x = []\n",
    "    y = []\n",
    "\n",
    "    for i in range(len(data)-seq_length-1):\n",
    "        _x = data[i:(i+seq_length):]\n",
    "        _y = data[i+seq_length]\n",
    "        x.append(_x)\n",
    "        y.append(_y)\n",
    "\n",
    "    return np.array(x),np.array(y)\n",
    "\n",
    "sc = MinMaxScaler()\n",
    "training_data = sc.fit_transform(training_set_1)\n",
    "print(f\"Training data: {training_data.shape}\")\n",
    "\n",
    "seq_length = 40\n",
    "x, y = sliding_windows(training_data, seq_length)\n",
    "print(f\"x shape = {x.shape}, y shape: {y.shape}\")\n",
    "\n",
    "train_size = len(y) - 1\n",
    "test_size = 1\n",
    "\n",
    "dataX = Variable(torch.Tensor(np.array(x))).to(dev)\n",
    "dataY = Variable(torch.Tensor(np.array(y))).to(dev)\n",
    "\n",
    "trainX = Variable(torch.Tensor(np.array(x[0:train_size]))).to(dev)\n",
    "trainY = Variable(torch.Tensor(np.array(y[0:train_size]))).to(dev)\n",
    "\n",
    "testX = Variable(torch.Tensor(np.array(x[train_size:len(x)]))).to(dev)\n",
    "testY = Variable(torch.Tensor(np.array(y[train_size:len(y)]))).to(dev)"
   ]
  },
  {
   "cell_type": "code",
   "execution_count": 6,
   "metadata": {},
   "outputs": [],
   "source": [
    "def run_sim(training_set, s_length):\n",
    "  sc = MinMaxScaler()\n",
    "  training_data = sc.fit_transform(training_set)\n",
    "  # print(f\"Training data: {training_data.shape}\")\n",
    "\n",
    "  seq_length = s_length\n",
    "  x, y = sliding_windows(training_data, seq_length)\n",
    "  # print(f\"x shape = {x.shape}, y shape: {y.shape}\")\n",
    "  #train_size = int(len(y) * 0.67)\n",
    "  #test_size = len(y) - train_size\n",
    "\n",
    "  train_size = len(y) - 1\n",
    "  test_size = 1\n",
    "\n",
    "  dataX = Variable(torch.Tensor(np.array(x))).to(dev)\n",
    "  dataY = Variable(torch.Tensor(np.array(y))).to(dev)\n",
    "\n",
    "  trainX = Variable(torch.Tensor(np.array(x[0:train_size]))).to(dev)\n",
    "  trainY = Variable(torch.Tensor(np.array(y[0:train_size]))).to(dev)\n",
    "\n",
    "  testX = Variable(torch.Tensor(np.array(x[train_size:len(x)]))).to(dev)\n",
    "  testY = Variable(torch.Tensor(np.array(y[train_size:len(y)]))).to(dev)\n",
    "\n",
    "    # [26 43 36  9 12 42 49 16 47  1 30  5 38 44 37 35 33  7  0  8 41 14 24 19\n",
    "  # 31 40 21  4 18 29 23 17 48 22 20 13 10 15 32 27  3 11 34 46 28 45  2 39\n",
    "  #  6 25] hidden_size 250 epochs 5000 min(MSE) = 0.329\n",
    "  # for training_set_1 use retrain = 26\n",
    "  # use seed 49, 250 hidden_layer\n",
    "  num_epochs = 5000\n",
    "  learning_rate = 0.01\n",
    "  retrain = 26\n",
    "  dropout = 0.3\n",
    "\n",
    "  input_size = 1\n",
    "  hidden_size = 250\n",
    "  num_layers = 1\n",
    "\n",
    "  num_classes = 1\n",
    "\n",
    "  errors = list()\n",
    "\n",
    "    \n",
    "  learning_rate = 0.01\n",
    "\n",
    "  lstm = LSTM(num_classes, input_size, hidden_size, num_layers, dropout).to(dev)\n",
    "\n",
    "  init_xavier(lstm, retrain)\n",
    "\n",
    "  criterion = torch.nn.MSELoss()    # mean-squared error for regression\n",
    "  optimizer = torch.optim.Adam(lstm.parameters(), lr=learning_rate)\n",
    "\n",
    "  # Train the model\n",
    "  for epoch in range(num_epochs):\n",
    "      outputs = lstm(trainX)\n",
    "      optimizer.zero_grad()\n",
    "      \n",
    "      # obtain the loss function\n",
    "      loss = criterion(outputs, trainY)\n",
    "      \n",
    "      loss.backward()\n",
    "      \n",
    "      optimizer.step()\n",
    "\n",
    "      if (epoch + 1) % 2000 == 0:\n",
    "        learning_rate /= 10\n",
    "        #print(f\"Learning Rate Decreased: lr = {learning_rate}\")\n",
    "        optimizer = torch.optim.Adam(lstm.parameters(), lr=learning_rate)\n",
    "      if epoch % 1000 == 0:\n",
    "        pass\n",
    "        # print(\"Epoch: %d, loss: %f\" % (epoch, loss.item()))\n",
    "\n",
    "\n",
    "  lstm.eval()\n",
    "  with torch.no_grad():\n",
    "    train_predict = lstm(dataX)\n",
    "\n",
    "  data_predict = train_predict.data.to('cpu').numpy()\n",
    "  dataY_plot = dataY.data.to('cpu').numpy()\n",
    "\n",
    "  data_predict = sc.inverse_transform(data_predict)\n",
    "  dataY_plot = sc.inverse_transform(dataY_plot)\n",
    "  mse = mean_squared_error(dataY_plot, data_predict)\n",
    "  errors.append(mse)\n",
    "\n",
    "  predict = np.zeros(len(testing_set))\n",
    "\n",
    "  current_batch = torch.from_numpy(training_data[-seq_length:,:].reshape(1, seq_length, 1)).float().to(dev)\n",
    "  count = 0\n",
    "  for i in range(len(testing_set)):\n",
    "    lstm.eval()\n",
    "    with torch.no_grad():\n",
    "      new_data = lstm(current_batch)\n",
    "    predict[count] = sc.inverse_transform(new_data.data.to('cpu').numpy())\n",
    "    count += 1\n",
    "    current_batch = torch.cat((current_batch[:, 1:, :], new_data.reshape(1, 1, 1)), dim=1)\n",
    "\n",
    "  print(predict)\n",
    "\n",
    "  full_predictions =  np.append(data_predict, predict)\n",
    "  print(full_predictions.shape)\n",
    "  plt.figure(figsize=(20, 12))\n",
    "  plt.title(f'Seq length = {s_length}')\n",
    "  plt.scatter(np.linspace(seq_length, seq_length + len(full_predictions), len(full_predictions)), full_predictions, marker='.', color='orange')\n",
    "  plt.scatter(np.linspace(0, 210, 210), training_set, marker='.')\n",
    "  plt.show()"
   ]
  },
  {
   "cell_type": "code",
   "execution_count": 7,
   "metadata": {},
   "outputs": [
    {
     "name": "stderr",
     "output_type": "stream",
     "text": [
      "/Users/jonas/opt/miniconda3/envs/DLSC/lib/python3.9/site-packages/torch/nn/modules/rnn.py:62: UserWarning: dropout option adds dropout after all but last recurrent layer, so non-zero dropout expects num_layers greater than 1, but got dropout=0.3 and num_layers=1\n",
      "  warnings.warn(\"dropout option adds dropout after all but last \"\n"
     ]
    },
    {
     "name": "stdout",
     "output_type": "stream",
     "text": [
      "[874.80877686 872.08831787 872.65844727 872.82177734 873.02642822\n",
      " 873.02880859 873.03057861 873.10992432 873.13726807 873.21179199\n",
      " 873.10406494 873.00195312 872.91003418 872.82141113 872.77984619\n",
      " 872.8059082  872.81781006 872.45214844 870.7789917  865.93011475\n",
      " 856.52703857 842.3269043  822.84875488 798.2199707  768.06634521\n",
      " 739.97381592 735.13146973 737.5625     735.19012451 734.03814697\n",
      " 733.84259033 733.97613525 734.18463135 729.0526123 ]\n",
      "(206,)\n"
     ]
    },
    {
     "data": {
      "image/png": "[encoded data removed]",
      "text/plain": [
       "<Figure size 1440x864 with 1 Axes>"
      ]
     },
     "metadata": {
      "needs_background": "light"
     },
     "output_type": "display_data"
    },
    {
     "name": "stderr",
     "output_type": "stream",
     "text": [
      "/Users/jonas/opt/miniconda3/envs/DLSC/lib/python3.9/site-packages/torch/nn/modules/rnn.py:62: UserWarning: dropout option adds dropout after all but last recurrent layer, so non-zero dropout expects num_layers greater than 1, but got dropout=0.3 and num_layers=1\n",
      "  warnings.warn(\"dropout option adds dropout after all but last \"\n"
     ]
    },
    {
     "name": "stdout",
     "output_type": "stream",
     "text": [
      "[803.99920654 847.09954834 862.42651367 868.94012451 871.35302734\n",
      " 872.18414307 872.84301758 873.27813721 873.36816406 873.11859131\n",
      " 872.77355957 872.54833984 872.48278809 872.48937988 872.47723389\n",
      " 872.38781738 872.17425537 871.71447754 870.61962891 868.10070801\n",
      " 862.48065186 851.58764648 836.02294922 816.22674561 792.07995605\n",
      " 763.43408203 744.99316406 741.83374023 739.46026611 737.53936768\n",
      " 735.97088623 734.71942139 734.78607178 726.45916748]\n",
      "(206,)\n"
     ]
    },
    {
     "data": {
      "image/png": "[encoded data removed]",
      "text/plain": [
       "<Figure size 1440x864 with 1 Axes>"
      ]
     },
     "metadata": {
      "needs_background": "light"
     },
     "output_type": "display_data"
    }
   ],
   "source": [
    "run_sim(training_set_1, 37)\n",
    "run_sim(training_set_2, 37)"
   ]
  }
 ],
 "metadata": {
  "kernelspec": {
   "display_name": "Python 3.9.7 ('DLSC')",
   "language": "python",
   "name": "python3"
  },
  "language_info": {
   "codemirror_mode": {
    "name": "ipython",
    "version": 3
   },
   "file_extension": ".py",
   "mimetype": "text/x-python",
   "name": "python",
   "nbconvert_exporter": "python",
   "pygments_lexer": "ipython3",
   "version": "3.9.7"
  },
  "orig_nbformat": 4,
  "vscode": {
   "interpreter": {
    "hash": "86bb253440cd2df187513c5365cd6d8de09a45f0e4f114687e4a912f27cc34d0"
   }
  }
 },
 "nbformat": 4,
 "nbformat_minor": 2
}
