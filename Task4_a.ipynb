{
 "cells": [
  {
   "cell_type": "code",
   "execution_count": null,
   "metadata": {},
   "outputs": [],
   "source": [
    "import numpy as np\n",
    "import matplotlib.pyplot as plt\n",
    "from sklearn.preprocessing import MinMaxScaler\n",
    "from scipy import stats, optimize"
   ]
  },
  {
   "cell_type": "code",
   "execution_count": null,
   "metadata": {},
   "outputs": [],
   "source": [
    "# use max likelihood\n",
    "def neg_likelihood(theta, t, T):\n",
    "    est_mean = theta[0] + t*theta[1] + t**2*theta[2] + t**3*theta[3] + t**4*theta[4]\n",
    "    est_std = np.maximum(theta[-3] + t*theta[-2] + t**2*theta[-1], 1e-10)\n",
    "    return -sum(stats.norm.logpdf(T, loc=est_mean, scale=est_std))\n",
    "\n",
    "def fit(t, T):\n",
    "    theta_init = np.array([1,0,0,0,0,1,0,0])\n",
    "    result = optimize.minimize(neg_likelihood, theta_init, args=(t, T))\n",
    "    theta = result.x\n",
    "    result = optimize.minimize(neg_likelihood, theta, args=(t, T))\n",
    "    theta = result.x\n",
    "    return theta\n",
    "\n",
    "def predict(t, theta):\n",
    "    std = np.maximum(theta[-3] + t*theta[-2] + t**2*theta[-1], np.array([1e-10]))\n",
    "    mean = theta[0] + t*theta[1] + t**2*theta[2] + t**3*theta[3] + t**4*theta[4]\n",
    "    return mean, std"
   ]
  },
  {
   "cell_type": "code",
   "execution_count": null,
   "metadata": {},
   "outputs": [],
   "source": [
    "# import the data\n",
    "training_data = np.loadtxt('Data/MeasuredData_Task4.txt')\n",
    "# just using right portion for now\n",
    "time_r = training_data[61:,0].reshape(-1,1)\n",
    "temp_r = training_data[61:,1].reshape(-1,1)\n",
    "\n",
    "test_time = np.loadtxt('Data/TestingDataA_Task4.txt').reshape(-1,1)\n",
    "test_time_r = test_time[60:]\n",
    "\n",
    "# normalize data\n",
    "scale_time_r = MinMaxScaler()\n",
    "scale_temp_r = MinMaxScaler()\n",
    "time_r = scale_time_r.fit_transform(time_r)\n",
    "test_time_r = scale_time_r.transform(test_time_r)\n",
    "temp_r = scale_temp_r.fit_transform(temp_r)\n",
    "\n",
    "theta_r = fit(time_r, temp_r)\n",
    "mean_r, std_r = predict(test_time_r, theta_r)\n",
    "\n",
    "time_r = scale_time_r.inverse_transform(time_r)\n",
    "test_time_r = scale_time_r.inverse_transform(test_time_r)\n",
    "temp_r = scale_temp_r.inverse_transform(temp_r)\n",
    "\n",
    "upper_r = mean_r+std_r\n",
    "lower_r = mean_r-std_r\n",
    "mean_r = scale_temp_r.inverse_transform(mean_r)\n",
    "upper_r = scale_temp_r.inverse_transform(upper_r)\n",
    "lower_r = scale_temp_r.inverse_transform(lower_r)\n",
    "\n",
    "plt.scatter(time_r, temp_r)\n",
    "plt.plot(test_time_r, mean_r)\n",
    "plt.plot(test_time_r, upper_r)\n",
    "plt.plot(test_time_r, lower_r)\n",
    "plt.show()"
   ]
  },
  {
   "cell_type": "code",
   "execution_count": null,
   "metadata": {},
   "outputs": [],
   "source": [
    "time_l = training_data[:61,0].reshape(-1,1)\n",
    "temp_l = training_data[:61,1].reshape(-1,1)\n",
    "test_time_l = test_time[:60]\n",
    "\n",
    "# normalize data\n",
    "scale_time_l = MinMaxScaler()\n",
    "scale_temp_l = MinMaxScaler()\n",
    "time_l = scale_time_l.fit_transform(time_l)\n",
    "test_time_l = scale_time_l.transform(test_time_l)\n",
    "temp_l = scale_temp_l.fit_transform(temp_l)\n",
    "\n",
    "theta_l = fit(time_l, temp_l)\n",
    "mean_l, std_l = predict(test_time_l, theta_l)\n",
    "\n",
    "time_l = scale_time_l.inverse_transform(time_l)\n",
    "test_time_l = scale_time_l.inverse_transform(test_time_l)\n",
    "temp_l = scale_temp_l.inverse_transform(temp_l)\n",
    "\n",
    "upper_l = mean_l+std_l\n",
    "lower_l = mean_l-std_l\n",
    "mean_l = scale_temp_l.inverse_transform(mean_l)\n",
    "upper_l = scale_temp_l.inverse_transform(upper_l)\n",
    "lower_l = scale_temp_l.inverse_transform(lower_l)\n",
    "\n",
    "plt.scatter(time_l, temp_l)\n",
    "plt.plot(test_time_l, mean_l)\n",
    "plt.plot(test_time_l, upper_l)\n",
    "plt.plot(test_time_l, lower_l)\n",
    "plt.show()"
   ]
  },
  {
   "cell_type": "code",
   "execution_count": null,
   "metadata": {},
   "outputs": [],
   "source": [
    "# collect output and save\n",
    "std_l = upper_l - mean_l\n",
    "std_r = upper_r - mean_r\n",
    "std = np.concatenate((std_l, std_r), 0)\n",
    "\n",
    "plt.scatter(test_time, std)\n",
    "plt.show()\n",
    "\n",
    "output = np.concatenate((test_time, std), 1)\n",
    "#np.savetxt('Task4a.txt', output)"
   ]
  },
  {
   "cell_type": "markdown",
   "metadata": {},
   "source": []
  }
 ],
 "metadata": {
  "kernelspec": {
   "display_name": "Python 3.9.7 ('DLSC')",
   "language": "python",
   "name": "python3"
  },
  "language_info": {
   "name": "python",
   "version": "3.9.7"
  },
  "orig_nbformat": 4,
  "vscode": {
   "interpreter": {
    "hash": "86bb253440cd2df187513c5365cd6d8de09a45f0e4f114687e4a912f27cc34d0"
   }
  }
 },
 "nbformat": 4,
 "nbformat_minor": 2
}
